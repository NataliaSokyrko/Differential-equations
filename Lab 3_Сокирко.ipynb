{
 "cells": [
  {
   "cell_type": "markdown",
   "metadata": {},
   "source": [
    "# Лабораторна робота №3 \n",
    "\n"
   ]
  },
  {
   "cell_type": "markdown",
   "metadata": {},
   "source": [
    "## Варіант 6\n",
    "Приклад:\n",
    "$$\n",
    "\\large f(x,y) = x-y^2,\\ x_0=-4,\\ y_0=2,\\ a=2,\\ b=3\n",
    "$$"
   ]
  },
  {
   "cell_type": "code",
   "execution_count": 70,
   "metadata": {},
   "outputs": [],
   "source": [
    "import numpy as np\n",
    "import matplotlib.pyplot as plt\n",
    "import matplotlib.gridspec as gridspec\n",
    "from matplotlib.lines import Line2D\n",
    "from sympy.solvers import solve\n",
    "from sympy import Symbol\n",
    "from sympy import *"
   ]
  },
  {
   "cell_type": "markdown",
   "metadata": {},
   "source": [
    "# Задача 1\n",
    "$\\text{У прямокутнику}\\ \\Pi=\\{(x,y)\\in \\mathbb{R}^2:|x-x_0|\\leq a,\\ |y-y_0|\\leq b\\} \\enspace \\text{задана задача Коші} \\enspace \\frac{dy}{dx} = f(x,y),y(x_0) = y_0$\n",
    "\n",
    "1) Знайти сталу Ліпшниця функції $f(x,y) \\ в \\ \\Pi$ та перевірити виконання умов теореми Пікара."
   ]
  },
  {
   "cell_type": "code",
   "execution_count": 71,
   "metadata": {},
   "outputs": [
    {
     "name": "stdout",
     "output_type": "stream",
     "text": [
      "Solve f'y: x = FiniteSet(y**2),  y = FiniteSet(sqrt(x), -sqrt(x))\n",
      "f = x - y**2 - неперервна\n",
      "\n",
      "Solve f'y: y =  FiniteSet(0)\n",
      "f'y = -2*y - неперервна\n",
      "\n",
      "L = 6.0 - стала Ліпшниця\n"
     ]
    }
   ],
   "source": [
    "from sympy.abc import x,y,z,L\n",
    "a , b = 2, 3\n",
    "x0,y0 = -4, 2\n",
    "step = 0.001\n",
    "f = x - y**2\n",
    "h = diff(f,y)\n",
    "print(f\"Solve f'y: x = {solveset(f,x)},  y = {solveset(f,y)}\")\n",
    "print(f\"f = {f} - неперервна\\n\")\n",
    "print(f\"Solve f'y: y =  {solveset(h,y)}\")\n",
    "print(f\"f'y = {h} - неперервна\\n\")\n",
    "p = lambdify(y,h)\n",
    "L = round(max(np.abs(p(np.arange(-b,b+step,step)))),4)\n",
    "print(f\"L = {L} - стала Ліпшниця\")"
   ]
  },
  {
   "cell_type": "markdown",
   "metadata": {},
   "source": [
    "2) На якому проміжку $[x_0-h,x_0+h]$ теорема Пікара гарантує збіжність послідовних наближень?"
   ]
  },
  {
   "cell_type": "code",
   "execution_count": 72,
   "metadata": {},
   "outputs": [
    {
     "name": "stdout",
     "output_type": "stream",
     "text": [
      "M = 13.0\n",
      "h = 0.23076923076923078\n",
      "\n",
      "На проміжку [-4.230769230769231, -3.769230769230769] теорема Пікара гарантує збіжність послідовних наближень.\n"
     ]
    }
   ],
   "source": [
    "step = 400\n",
    "def func(x,y):\n",
    "    return x**2+y**2\n",
    "M = round(max(np.abs(func(np.linspace(-a,a,step),np.linspace(-b,b,step)))),4)\n",
    "print(f'M = {M}')\n",
    "h = min(a,b/M)\n",
    "print(f'h = {h}')\n",
    "hl = x0-h\n",
    "hr = x0+h\n",
    "print(f\"\\nНа проміжку [{hl}, {hr}] теорема Пікара гарантує збіжність послідовних наближень.\")"
   ]
  },
  {
   "cell_type": "markdown",
   "metadata": {},
   "source": [
    "3) Знайти кожне третє наближення $y_3(x), \\ x \\in [x_0-h,x_0+h]$ заданої задачі Коші."
   ]
  },
  {
   "cell_type": "code",
   "execution_count": 73,
   "metadata": {},
   "outputs": [
    {
     "name": "stdout",
     "output_type": "stream",
     "text": [
      "y1(x) = x**2/2 - 4*x - 22\n",
      "y2(x) = -x**5/20 + x**4 + 2*x**3 - 175*x**2/2 - 484*x - 3566/5\n",
      "y3(x) = -x**11/4400 + x**10/100 - 4*x**9/45 - 51*x**8/32 + 613*x**7/35 + 10389*x**6/50 - 85877*x**5/100 - 102309*x**4/5 - 359066*x**3/3 - 3451883*x**2/10 - 12716356*x/25 - 5322968158/17325\n"
     ]
    }
   ],
   "source": [
    "f = x - y**2\n",
    "func = y0\n",
    "\n",
    "for i in range(3):\n",
    "    func = y0 + integrate(f.subs(y,func), (x,x0,x))\n",
    "    print(f'y{i+1}(x) = {func}')"
   ]
  },
  {
   "cell_type": "markdown",
   "metadata": {},
   "source": [
    "4) Оцінити $max|y(x)-y_3(x)| = \\beta_3$. При якому $n$ буде виконуватись нерівність $\\beta_n\\leq10^{-3}$?"
   ]
  },
  {
   "cell_type": "code",
   "execution_count": 74,
   "metadata": {},
   "outputs": [
    {
     "name": "stdout",
     "output_type": "stream",
     "text": [
      "max|y(x) - y3(x)| = 0.3318161128812016\n",
      "\n",
      "При n = 7  Beta <= 10^(-3)\n"
     ]
    }
   ],
   "source": [
    "from math import factorial\n",
    "print(f'max|y(x) - y3(x)| = {(M*(L*h)**4)/(L*factorial(4))}\\n')\n",
    "\n",
    "def funk(k):\n",
    "    return (M*(L*h)**(k+1))/(L*factorial(k+1))\n",
    "\n",
    "e = 10**(-3)\n",
    "for i in range(100):\n",
    "    B = funk(i)\n",
    "    if B <= e:\n",
    "        print(f'При n = {i}  Beta <= 10^(-3)')\n",
    "        break"
   ]
  },
  {
   "cell_type": "markdown",
   "metadata": {},
   "source": [
    "5) Для заданого $x_1 \\in [x_0-h,x_0+h]$ знайти $y(x_1)$ з точністю до $10^{-6}$."
   ]
  },
  {
   "cell_type": "code",
   "execution_count": 75,
   "metadata": {},
   "outputs": [
    {
     "name": "stdout",
     "output_type": "stream",
     "text": [
      "y7(x) = 2\n"
     ]
    }
   ],
   "source": [
    "x1 = -4           \n",
    "if x1 < hl or x1 > hr:\n",
    "    print('Error')\n",
    "else:\n",
    "    f = x - y**2\n",
    "    f1 = y0\n",
    "    \n",
    "    for i in range(7):\n",
    "        f1 = y0 + integrate(f.subs(y,f1), (x,x0,x))\n",
    "        \n",
    "    print(f'y{i+1}(x) = {round(f1.subs(x,x1),6)}')"
   ]
  },
  {
   "cell_type": "markdown",
   "metadata": {},
   "source": [
    "# Задача 2.\n",
    "В області $K \\in \\mathbb{R}^2$ задано задачу Коші $y' = g(y),\\ y(x_0)=y_0$.\n",
    "\n",
    "\n",
    "$$\n",
    "g(y) = \\sqrt{-y},\\ x_0 = 1,\\ y_0 = 0,\\ K = \\{(x,y) \\in \\mathbb{R}^2: x^2+y^2 \\leq 4\\}\n",
    "$$\n",
    "\n",
    "\n",
    "1) Чи виконані для заданої задачі Коші умови теореми Пеано? На якому інтервалі ця теорема гарантує існівання розв'язку заданої задачу Коші?"
   ]
  },
  {
   "cell_type": "markdown",
   "metadata": {},
   "source": [
    "Теорема в даному випадку гарантує існування розв'язку на інтервалі, де у набуває від'ємних значень, адже функція має бути неперервною в R."
   ]
  },
  {
   "cell_type": "code",
   "execution_count": 77,
   "metadata": {},
   "outputs": [
    {
     "name": "stdout",
     "output_type": "stream",
     "text": [
      "a = 4.0, b = 4.0\n",
      "Solve f'y: y = FiniteSet(0)\n",
      "f = sqrt(-y) - неперервна\n",
      "\n",
      "M = 32.0\n",
      "h = 0.125\n"
     ]
    }
   ],
   "source": [
    "def fun(x,y):\n",
    "    return x*x + y*y\n",
    "a = 0\n",
    "b = 0\n",
    "for i in np.arange(-2,2,0.01):\n",
    "    a = max(a, fun(i,0))\n",
    "    b = max(b, fun(0,i))\n",
    "    \n",
    "print(f'a = {a}, b = {b}')\n",
    "\n",
    "from sympy.abc import x,y,z\n",
    "x0,y0 = 1,0\n",
    "step = 0.001\n",
    "f = sqrt(-y)\n",
    "h = diff(f,y)\n",
    "print(f\"Solve f'y: y = {solveset(f,y)}\")\n",
    "print(f\"f = {f} - неперервна\\n\")\n",
    "step = 400\n",
    "M = round(max(np.abs(fun(np.linspace(-a,a,step),np.linspace(-b,b,step)))),4)\n",
    "print(f'M = {M}')\n",
    "h = min(a,b/M)\n",
    "print(f'h = {h}')\n",
    "\n",
    "x = np.linspace(-2, 2, 100)\n",
    "y = np.linspace(-2, 2, 100)\n",
    "x, y = np.meshgrid(x, y)"
   ]
  },
  {
   "cell_type": "markdown",
   "metadata": {},
   "source": [
    "2) Знайти всі розв'язки заданої задачі Коші. Вказати максимальний та мінімальний розв'язки цієї задачі. "
   ]
  },
  {
   "cell_type": "code",
   "execution_count": null,
   "metadata": {},
   "outputs": [],
   "source": [
    "\n",
    "    "
   ]
  },
  {
   "cell_type": "code",
   "execution_count": null,
   "metadata": {},
   "outputs": [],
   "source": []
  }
 ],
 "metadata": {
  "kernelspec": {
   "display_name": "Python 3",
   "language": "python",
   "name": "python3"
  },
  "language_info": {
   "codemirror_mode": {
    "name": "ipython",
    "version": 3
   },
   "file_extension": ".py",
   "mimetype": "text/x-python",
   "name": "python",
   "nbconvert_exporter": "python",
   "pygments_lexer": "ipython3",
   "version": "3.7.6"
  }
 },
 "nbformat": 4,
 "nbformat_minor": 2
}
